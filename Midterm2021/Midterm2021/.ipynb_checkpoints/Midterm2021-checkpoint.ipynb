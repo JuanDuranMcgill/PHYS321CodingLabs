{
 "cells": [
  {
   "cell_type": "markdown",
   "metadata": {},
   "source": [
    "# PHYS 321 Midterm 2021"
   ]
  },
  {
   "cell_type": "markdown",
   "metadata": {},
   "source": [
    "This midterm exam is an open-book, open-resource exam. However, you may not collaborate with anyone. Please send clarification questions and hint requests to me at [adrian.liu@mcgill.ca](mailto:adrian.liu2@mcgill.ca). Submission is via Github (more details below). The exam is due at 11:59:59 Eastern on February 25th, 2020.\n",
    "\n",
    "You may copy and paste code from your previous assignments, but __you must cite your sources__. E.g., if you want to use a function that you wrote in Coding Lab 02, please include the comment \"this function was copied from Coding Lab 02\"\n",
    "\n",
    "For questions that are more algebraic or conceptual, you may either: 1) type your answer here, 2) do your work on paper and scan it, or 3) write up your answer in a separate pdf document. If you decide to go with option 2 or 3 on any particular question, be sure to let us know which document to look at. (Or with option 2 you can also embed the image file in the notebook itself)."
   ]
  },
  {
   "cell_type": "markdown",
   "metadata": {},
   "source": [
    "## Question 1"
   ]
  },
  {
   "cell_type": "markdown",
   "metadata": {},
   "source": [
    "Place all of the midterm files in a folder within your Github repo. Then:"
   ]
  },
  {
   "cell_type": "markdown",
   "metadata": {},
   "source": [
    "__a)__ Perform an initial commit locally and push to your Github repo. Write down the commands you used below."
   ]
  },
  {
   "cell_type": "markdown",
   "metadata": {},
   "source": [
    "## Your answer here\n",
    "git add Midterm2021 <br>\n",
    "git commit -m \"adding midterm2021 to github\"<br>\n",
    "git push<br>"
   ]
  },
  {
   "cell_type": "markdown",
   "metadata": {},
   "source": [
    "__b)__ Create a file named ``secret_treasure.txt``. Commit it. Now create a new branch. Write down the commands that you used."
   ]
  },
  {
   "cell_type": "markdown",
   "metadata": {},
   "source": [
    "## Your answer here\n",
    "touch secret_treasure2.txt<br>\n",
    "git add secret_treasure2.txt<br>\n",
    "git commit -m \"committing secret_treasure2.txt\"<br>\n",
    "git checkout -b newBranch<br>"
   ]
  },
  {
   "cell_type": "markdown",
   "metadata": {},
   "source": [
    "__c)__ Add the text ``I'm a Bayesian`` to the file in this new branch. In your old branch, add the text ``I'm a Frequentist``. Write down the commands that you used."
   ]
  },
  {
   "cell_type": "markdown",
   "metadata": {},
   "source": [
    "## Your answer here\n",
    "echo \"I'm a Bayesian\">>secret_treasure2.txt<br>\n",
    "git add secret_treasure2.txt<br>\n",
    "git commit -m \"commit secret_treasure2.txt to newBranch\" <br>\n",
    "git checkout main<br>\n",
    "echo \"I'm a Frequentist\">>secret_treasure.txt"
   ]
  },
  {
   "cell_type": "markdown",
   "metadata": {},
   "source": [
    "__d)__ Merge the changes from your new branch to your old branch. If you get a merge conflict, deal with it in whatever way you want. Write down the commands that you used."
   ]
  },
  {
   "cell_type": "markdown",
   "metadata": {},
   "source": [
    "## Your answer here\n",
    "git merge newBranch *error*<br>\n",
    "vim secret_treasure2.txt *fix error to only leave I'm a Frequentist* <br>\n",
    "git add secret_treasure2.txt <br>\n",
    "git commit -m \"committing again secret_treasure2.txt\" <br>\n",
    "git merge newBranch"
   ]
  },
  {
   "cell_type": "markdown",
   "metadata": {},
   "source": [
    "Push your local changes to your Github repo to complete this problem."
   ]
  },
  {
   "cell_type": "markdown",
   "metadata": {},
   "source": [
    "## Question 2"
   ]
  },
  {
   "cell_type": "markdown",
   "metadata": {},
   "source": [
    "In Coding Lab 01, we discussed how the sidereal day is shorter than a solar day by 4 minutes. Is it possible for the sidereal day on some planet to be __longer__ than the solar day? Explain. If it's helpful, you may include a diagram of some sort."
   ]
  },
  {
   "cell_type": "markdown",
   "metadata": {},
   "source": [
    "## Your answer here\n",
    "In the case of our beloved earth, from a vantage point above the north pole, the earth is rotating both around itself and around the sun\n",
    "counterclockwise.\n",
    "\n",
    "\n",
    "Let's say the sun is at cartesian coordiantes (0,0) and the earth is on the positive right axis facing perpendicularly the y-axis.\n",
    "When the earth performs a full sideral day, it is once again facing perpendicularly the y-axis, but it has\n",
    "moved a little up and a little to the left since it has also rotated around the sun. \n",
    "Therefore, at that given time, it is not facing directly the sun. It will face the sun after it rotates a little more and that's when \n",
    "we will be able to annouce that the earth has performed a solar day. \n",
    "Clearly, this case shows that the sideral day is shorter than the solar day.\n",
    "\n",
    "How can we imagine a planet that has a sideral day longer than a solar day?\n",
    "Let's assume now that the planet moves clockwise around its star but counterclockwise around itself. \n",
    "Again, let's say the star starts at position (0,0) and the planet is laying on the positive x-axis, facing perpendicularly the y-axis.\n",
    "\n",
    "As it goes on with its rotation around it self, due to the fact that it has moved a little bit down and left, it will face the sun\n",
    "before it gets to face the y-axis, hence proving a hypothetical planet that has a longer sidereal day than a solar day. \n"
   ]
  },
  {
   "cell_type": "markdown",
   "metadata": {},
   "source": [
    "<div>\n",
    "<img src=\"day.png\" width=\"1000\">\n",
    "</div>"
   ]
  },
  {
   "cell_type": "markdown",
   "metadata": {},
   "source": [
    "## Question 3"
   ]
  },
  {
   "cell_type": "markdown",
   "metadata": {},
   "source": [
    " Consider the following HR diagram:"
   ]
  },
  {
   "cell_type": "markdown",
   "metadata": {},
   "source": [
    "<div>\n",
    "<img src=\"HR_filled.png\" width=\"400\">\n",
    "</div>"
   ]
  },
  {
   "cell_type": "markdown",
   "metadata": {},
   "source": [
    " The $b$ colour is measured through a filter that permits light to pass through if it is within the wavelength range $300\\,\\textrm{nm} \\lesssim \\lambda \\lesssim 650\\,\\textrm{nm}$. The $r$ (``red\") filter allows light in the range $650\\,\\textrm{nm} \\lesssim \\lambda \\lesssim 1000\\,\\textrm{nm}$ to pass through. The $g$ filter covers both ranges."
   ]
  },
  {
   "cell_type": "markdown",
   "metadata": {},
   "source": [
    "__a)__ Which side (the left side or the right side) of the HR diagrams corresponds to bluer stars?"
   ]
  },
  {
   "cell_type": "markdown",
   "metadata": {},
   "source": [
    "## Your answer here\n",
    "left side"
   ]
  },
  {
   "cell_type": "markdown",
   "metadata": {},
   "source": [
    "__b)__ Star $\\#1$ has a $(b-r)$ colour of 3.5, while Star $\\#2$ has a $(b-r)$ colour of 2. Which star has the higher luminosity? What is the ratio of their luminosities?"
   ]
  },
  {
   "cell_type": "markdown",
   "metadata": {},
   "source": [
    "## Your answer here\n",
    "Star #2 has the higher luminosity\n",
    "\n",
    "I shall use equation $\\frac{F_2}{F_1}=100^\\frac{m_1-m_2}{5}$  and  $F=\\frac{L}{4\\pi d^2}$.\n",
    "\n",
    "Assuming they have similar distances, $\\frac{F_2}{F_1}\\propto\\frac{L_2}{L_1}$\n",
    "\n",
    "with $m_1=3.5$ and $m_2=2$ we have $\\frac{L_2}{L_1}=100^\\frac{3.5-2}{5}=3.98$. It has a ratio of 3.98"
   ]
  },
  {
   "cell_type": "markdown",
   "metadata": {},
   "source": [
    "__c)__ Suppose you see a star with an apparent $g$-band magnitude of 8. The star has $(b-r)$ colour of $1$. How far away is this star?"
   ]
  },
  {
   "cell_type": "markdown",
   "metadata": {},
   "source": [
    "## Your answer here\n",
    "star has (b-r) colour of 1 which means it has absolute magnitude 5 <br>\n",
    "Using equation $m-M=5\\log\\frac{d}{10pc}$ <br>\n",
    "Isolate for d: $10^\\frac{m-M}{5}\\cdot10pc=d$<br>\n",
    "So we solve $d=10^\\frac{8-5}{5}\\cdot10pc=39.8pc$\n",
    "\n",
    "\n"
   ]
  },
  {
   "cell_type": "markdown",
   "metadata": {},
   "source": [
    "__d)__ In the previous part, were you computing an angular diameter distance or a luminosity distance? Suppose you had computed the other one instead. Would the answer have been very similar, or would it have been quite different?"
   ]
  },
  {
   "cell_type": "markdown",
   "metadata": {},
   "source": [
    "I would say that at smaller red-shifts, the distances are fairly similar, but as the redshift increases, they become more and more different. I have attached below some code that I took from lab2. "
   ]
  },
  {
   "cell_type": "code",
   "execution_count": 1,
   "metadata": {},
   "outputs": [
    {
     "data": {
      "image/png": "[encoded data removed]",
      "text/plain": [
       "<Figure size 432x288 with 1 Axes>"
      ]
     },
     "metadata": {
      "needs_background": "light"
     },
     "output_type": "display_data"
    }
   ],
   "source": [
    "## Your answer here\n",
    "import numpy as np\n",
    "import matplotlib.pyplot as plt\n",
    "from astropy.cosmology import Planck15\n",
    "from astropy.cosmology import FLRW as cosmo\n",
    "\n",
    "z = np.linspace(0,10,5000)\n",
    "DA = cosmo.angular_diameter_distance(Planck15,z)\n",
    "DL = cosmo.luminosity_distance(Planck15,z)\n",
    "\n",
    "plt.plot(z, DA,'b', label=r'$D_A$')\n",
    "plt.plot(z, DL,'r', label=r'$D_L$')\n",
    "\n",
    "plt.title(r\"Angular and luminosity distances v.s. z\")\n",
    "\n",
    "plt.xlabel(\"z (Redshift)\")\n",
    "\n",
    "plt.ylabel(\"Distance (Mpc)\")\n",
    "\n",
    "plt.legend(loc='upper right')\n",
    "\n",
    "plt.show()"
   ]
  },
  {
   "cell_type": "markdown",
   "metadata": {},
   "source": [
    "__e)__ What is the redshift at which an object's angular diameter distance and its luminosity distance differ by $10\\%$? How old was our Universe when it emitted the light that we see today? How much smaller or larger was the universe back then compared to now?"
   ]
  },
  {
   "cell_type": "code",
   "execution_count": 2,
   "metadata": {},
   "outputs": [
    {
     "name": "stdout",
     "output_type": "stream",
     "text": [
      "DL over DA have a ratio of 1.10 (hence differ by 10%) at redshift 0.05001000200040008\n",
      "The age of the universe was  12.79301248319205 Gyr at z= 0.05001000200040008\n",
      "The universe was  0.9523718803581633  of its current size at z= 0.05001000200040008\n"
     ]
    }
   ],
   "source": [
    "## Your answer here\n",
    "\n",
    "#Intuition: taking the ratio of DL/DA. when this ratio equals 1.10, that means they differ by 10%.\n",
    "#I will extract the redshift at that point. \n",
    "newDL=[]\n",
    "newDA=[]\n",
    "\n",
    "for x in DL:\n",
    "    newDL.append(x.value)\n",
    "\n",
    "for x in DA:\n",
    "    newDA.append(x.value)\n",
    "    \n",
    "newDL[0]=0.00001\n",
    "newDA[0]=0.00001\n",
    "\n",
    "newDL=np.array(newDL)\n",
    "newDA=np.array(newDA)\n",
    "\n",
    "ratio=newDL/newDA\n",
    "\n",
    "i=0\n",
    "for x in ratio:\n",
    "    if x>1.10:\n",
    "        print(\"DL over DA have a ratio of 1.10 (hence differ by 10%) at redshift\", z[i])\n",
    "        break\n",
    "    i+=1\n",
    "    \n",
    "    \n",
    "    \n",
    "#I took this piece of code from lab 2\n",
    "import astropy.units as u\n",
    "from astropy.cosmology import FlatLambdaCDM\n",
    "cosmo = FlatLambdaCDM(H0=70*u.km/u.s/u.Mpc, Om0=0.3)\n",
    "\n",
    "\n",
    "print(\"The age of the universe was \",cosmo.age(z[i]),\"at z=\",z[i])\n",
    "\n",
    "#I also took this equation from lab 2\n",
    "print(\"The universe was \",1/(1+z[i]),\" of its current size at z=\",z[i] )\n",
    " "
   ]
  },
  {
   "cell_type": "markdown",
   "metadata": {},
   "source": [
    "## Question 4"
   ]
  },
  {
   "cell_type": "markdown",
   "metadata": {},
   "source": [
    "You and your friends are on holiday in southern California, where it doesn’t rain very much: 5 out of 365 days per year. You want to go to the beach tomorrow. Unfortunately, the weather forecast says that it will rain tomorrow. When it actually rains, the forecast is correct 90\\% of the time. When it doesn’t, there is a 10\\% chance that rain is incorrectly predicted by the forecast. What is the probability that it will rain tomorrow, knowing what the weather forecast says?"
   ]
  },
  {
   "cell_type": "markdown",
   "metadata": {},
   "source": [
    "## Your answer here \n",
    "p(rain)=5/365 <br>\n",
    "p(forecast predicts rain|rain)=0.9 <br>\n",
    "p(forecast predicts rain|no rain)=0.1 <br>\n",
    "p(no rain)=1-p(rain)=360/365 <br>\n",
    "\n",
    "p(forecast predicts rain)= p(forecast predicts rain|rain)*p(rain)+p(forecast predicts rain|no rain)*p(no rain)<br>\n",
    "p(forecast predicts rain)=(0.9)*(5/365)+(0.1)*(360/365)=0.11<br>\n",
    "\n",
    "p(rain|forecast predicts rain)=(p(forecast predicts rain|rain)*p(rain))/p(forecast predicts rain)=(0.9*5/365)/0.11=0.11<br>\n",
    "\n",
    "The probability that it will rain tomorrow, knowing what the weather forecast says, is 0.11 \n"
   ]
  },
  {
   "cell_type": "markdown",
   "metadata": {},
   "source": [
    "## Question 5"
   ]
  },
  {
   "cell_type": "markdown",
   "metadata": {},
   "source": [
    "The probability distribution for the speed $v$ of a particle in an ideal gas is given by the _Maxwell-Boltzmann_ distribution:\n",
    "\n",
    "\\begin{equation}\n",
    "4 \\pi \\left(\\frac{m}{2 \\pi k_b T} \\right)^{3/2}  v^2 \\exp \\left( \\frac{-mv^2}{2 k_b T} \\right),\n",
    "\\end{equation}\n",
    "\n",
    "where $k_b$ is Boltzmann's constant, $m$ is the mass of an atom in the gas, and $T$ is the temperature. You can integrate this to confirm that it's correctly normalized if you like! (Incidentally, the wikipedia page on the Maxwell-Boltzmann distribution contains some typos, and a bunch of their expressions are incorrect)."
   ]
  },
  {
   "cell_type": "markdown",
   "metadata": {},
   "source": [
    "__a)__ Suppose we have an ideal gas in the lab. Let's assume that we know what type of gas we have, so the mass is known. To simplify matters, work in units where $m / k_b = 1$. You go into the lab and you make _one_ measurement of velocity (i.e., you measure the speed of _one_ atom). You get $v = 20$ (in our weird units).\n",
    "\n",
    "You'd like to know the temperature of the gas. Prof. Mxyptlk says \"the temperature measures the _average_ kinetic energy of a particle; therefore, with just a single speed measurement we can't know anything about the temperature\". Prove Prof. Mxyptlk wrong by inferring what you can about $T$, the temperature of the gas."
   ]
  },
  {
   "cell_type": "code",
   "execution_count": 3,
   "metadata": {},
   "outputs": [
    {
     "data": {
      "image/png": "[encoded data removed]",
      "text/plain": [
       "<Figure size 432x288 with 1 Axes>"
      ]
     },
     "metadata": {
      "needs_background": "light"
     },
     "output_type": "display_data"
    },
    {
     "name": "stdout",
     "output_type": "stream",
     "text": [
      "The expected temperature is  133.30666066606662\n"
     ]
    }
   ],
   "source": [
    "## Your answer here\n",
    "\n",
    "\n",
    "def likelihood(t,v):\n",
    "    return 4*np.pi*((1/(2*np.pi*t))**(3/2))*((v)**2)*np.exp(-((v)**2)/(2*t))\n",
    "                                                             \n",
    "\n",
    "t=np.linspace(0.1,2000,10000)\n",
    "d=likelihood(t,20)\n",
    "\n",
    "\n",
    "uniform_pdf = 1/(max(t)-min(t))\n",
    "normalization_factor_posterior = np.sum((d * uniform_pdf) * 0.01)\n",
    "\n",
    "d = (d * uniform_pdf) / normalization_factor_posterior\n",
    "\n",
    "\n",
    "plt.plot(t,d)\n",
    "\n",
    "plt.xlabel(\"t\")\n",
    "plt.ylabel(\"distribution\")\n",
    "plt.title(\"distribution at different temperatures\")\n",
    "plt.show()\n",
    "\n",
    "i=0\n",
    "for e in d:\n",
    "    if e==max(d):\n",
    "        print(\"The expected temperature is \", t[i])\n",
    "        break\n",
    "    i+=1"
   ]
  },
  {
   "cell_type": "markdown",
   "metadata": {},
   "source": [
    "__b)__ What is the 95\\% credibility region for your inferred $T$?"
   ]
  },
  {
   "cell_type": "code",
   "execution_count": 4,
   "metadata": {},
   "outputs": [
    {
     "data": {
      "image/png": "[encoded data removed]",
      "text/plain": [
       "<Figure size 432x288 with 1 Axes>"
      ]
     },
     "metadata": {
      "needs_background": "light"
     },
     "output_type": "display_data"
    },
    {
     "name": "stdout",
     "output_type": "stream",
     "text": [
      "The credible region 95 % spans the range t= 69.5034703470347  to t= 1810.7905390539054 .\n"
     ]
    }
   ],
   "source": [
    "## Your answer here\n",
    "\n",
    "#I took this code from lab 4. This code takes the cdf and outputs credibility regions of a given percentage\n",
    "from scipy.stats import norm\n",
    "\n",
    "x = t\n",
    "y = d\n",
    "#This part calculates the cdf from array y\n",
    "i=1\n",
    "for e in range(len(y)-1):\n",
    "    y[i]=y[i]+y[i-1]\n",
    "    i+=1\n",
    "    \n",
    "y=y/max(y)\n",
    "\n",
    "#This part plots the cdf\n",
    "plt.plot(x,y,'b')\n",
    "plt.xlabel(\"b\")\n",
    "plt.ylabel(\"p(b|d)\")\n",
    "plt.title(\"The cdf of posterior p(b|d)\")\n",
    "plt.show()\n",
    "\n",
    "def what_is_x_when_y_is(input, x, y):\n",
    "    return x[y.searchsorted(input, 'left')]\n",
    "#Got this function from https://stackoverflow.com/questions/11467649/how-do-i-find-x-given-y-or-vice-versa-in-numpy\n",
    "\n",
    "#This is the function that answers the question\n",
    "def credible_region(input,x,y):\n",
    "    n=input/100\n",
    "    n1=0.5-n/2.0\n",
    "    n2=0.5+n/2.0\n",
    "    x1= what_is_x_when_y_is(n1, x, y)\n",
    "    x2= what_is_x_when_y_is(n2, x, y)\n",
    "    print(\"The credible region\",input,\"% spans the range t=\",x1,\" to t=\",x2,\".\")\n",
    "\n",
    "credible_region(95,x,y)"
   ]
  },
  {
   "cell_type": "markdown",
   "metadata": {},
   "source": [
    "__c)__ You take a few more measurements: $v=(30, 28.5, 18, 15, 20, 20)$. Update your knowledge of $T$, stating your assumptions."
   ]
  },
  {
   "cell_type": "code",
   "execution_count": 5,
   "metadata": {},
   "outputs": [
    {
     "data": {
      "image/png": "[encoded data removed]",
      "text/plain": [
       "<Figure size 432x288 with 1 Axes>"
      ]
     },
     "metadata": {
      "needs_background": "light"
     },
     "output_type": "display_data"
    },
    {
     "name": "stdout",
     "output_type": "stream",
     "text": [
      "The expected temperature is  164.9082408240824\n"
     ]
    }
   ],
   "source": [
    "## Your answer here\n",
    "# I will take each new input as a prior distribution to the current distribution in order to get a posterior distribution\n",
    "\n",
    "\n",
    "t=np.linspace(0.1,2000,10000)\n",
    "d=likelihood(t,20)\n",
    "\n",
    "\n",
    "uniform_pdf = 1/(max(t)-min(t))\n",
    "#\n",
    "normalization_factor_posterior1 = np.sum((d * uniform_pdf) * 0.01)\n",
    "d = (d * uniform_pdf) / normalization_factor_posterior1\n",
    "#\n",
    "normalization_factor_posterior2=np.sum((likelihood(t,30)*d)*0.01)\n",
    "d2 =((likelihood(t,30)*d)*0.01)/normalization_factor_posterior2\n",
    "#\n",
    "normalization_factor_posterior3=np.sum((likelihood(t,28.5)*d2)*0.01)\n",
    "d3 =((likelihood(t,28.5)*d2)*0.01)/normalization_factor_posterior3\n",
    "#\n",
    "normalization_factor_posterior4=np.sum((likelihood(t,18)*d3)*0.01)\n",
    "d4 =((likelihood(t,18)*d3)*0.01)/normalization_factor_posterior4\n",
    "#\n",
    "normalization_factor_posterior5=np.sum((likelihood(t,15)*d4)*0.01)\n",
    "d5 =((likelihood(t,15)*d4)*0.01)/normalization_factor_posterior5\n",
    "#\n",
    "normalization_factor_posterior6=np.sum((likelihood(t,20)*d5)*0.01)\n",
    "d6 =((likelihood(t,20)*d5)*0.01)/normalization_factor_posterior6\n",
    "#\n",
    "normalization_factor_posterior7=np.sum((likelihood(t,20)*d6)*0.01)\n",
    "d7 =((likelihood(t,20)*d6)*0.01)/normalization_factor_posterior6\n",
    "\n",
    "\n",
    "plt.plot(t,d7)\n",
    "\n",
    "plt.xlabel(\"t\")\n",
    "plt.ylabel(\"distribution\")\n",
    "plt.title(\"distribution at different temperatures\")\n",
    "plt.show()\n",
    "\n",
    "i=0\n",
    "for e in d7:\n",
    "    if e==max(d7):\n",
    "        print(\"The expected temperature is \", t[i])\n",
    "        break\n",
    "    i+=1\n",
    "\n",
    "\n"
   ]
  },
  {
   "cell_type": "markdown",
   "metadata": {},
   "source": [
    "__d)__ Prof. Mxyptlk says \"ok, ok, but you had to know the mass of the gas. If you didn't know $m$ separately and had to infer $m$ and $T$ simultaneously, you wouldn't get a nice well-defined peak in your probability distribution for $T$. You'd basically find that any value of $T$ is possible.\" Do you agree with Prof. Mxyptlk?\n",
    "\n",
    "* If you agree, explain why and give an example of a probability distribution where reasonable simultaneous constraints on $m$ and $T$ are still possible (i.e., imagine you have the ability to modify the laws of nature to slightly modify the Maxwell-Boltzmann distribution).\n",
    "* If you disagree, explain why Prof. Mxyptlk is incorrect.\n"
   ]
  },
  {
   "cell_type": "markdown",
   "metadata": {},
   "source": [
    "## Your answer here\n",
    "\n",
    "I agree with the eminent, world wide famous Professor Mxyptlk. Indeed, one would basically find that there exist a mass that satisfy every temperature. This does not mean that we cannot infer T anymore. This only means that the T we infer will depend on the input mass. The best way to visualize this situation would be to plot temperature on the x-axis, plot mass on the y-axis and plot the output distribution value on the z-axis. This 3-d representation would give a well-defined mountain range instead of a well-defined peak. "
   ]
  },
  {
   "cell_type": "markdown",
   "metadata": {},
   "source": [
    "## Question 6"
   ]
  },
  {
   "cell_type": "markdown",
   "metadata": {},
   "source": [
    "Kevin likes dumplings. He goes to inspect a dumpling factory, where they claim that the length of their dumplings $L$ is Gaussian distributed with mean $4\\,\\textrm{cm}$ and a standard deviation of $1\\,\\textrm{cm}$. Kevin randomly selects $10$ dumplings and measures their lengths, obtaining\n",
    "\n",
    "$L = (5.61, 2.22, 3.11, 6.01, 4.79, 3.70, 2.67, 3.90, 3.86, 3.48)\\,\\textrm{cm}$\n",
    "\n"
   ]
  },
  {
   "cell_type": "markdown",
   "metadata": {},
   "source": [
    "__a)__ Use Bayesian inference to infer the posterior distribution for the mean and standard deviation of dumpling size at this factory. Display your results graphically."
   ]
  },
  {
   "cell_type": "code",
   "execution_count": 11,
   "metadata": {},
   "outputs": [
    {
     "name": "stdout",
     "output_type": "stream",
     "text": [
      "With the information from the prior and likelihood, we were able to achieve this plot with a mean of  3.9445495495495497 .\n"
     ]
    },
    {
     "data": {
      "image/png": "[encoded data removed]",
      "text/plain": [
       "<Figure size 432x288 with 1 Axes>"
      ]
     },
     "metadata": {
      "needs_background": "light"
     },
     "output_type": "display_data"
    }
   ],
   "source": [
    "def likelihood (x,mean, std):\n",
    "    # L(d|b) = b^d * (1-b)^(n-d)\n",
    "    return (1/(std*np.sqrt(2*np.pi)))*np.exp((-1/2)*((x-mean)/std)**2)\n",
    "\n",
    "def prior (x,std,mean=4):\n",
    "    # L(d|b) = b^d * (1-b)^(n-d)\n",
    "    return (1/(std*np.sqrt(2*np.pi)))*np.exp((-1/2)*((x-mean)/std)**2)\n",
    "\n",
    "\n",
    "L =[5.61,2.22,3.11,6.01,4.79,3.70,2.67,3.90,3.86,3.48]\n",
    "mean1=np.mean(L)\n",
    "std1=np.std(L)\n",
    "\n",
    "\n",
    "x= np.linspace(0.001,10,1000)\n",
    "#p=prior(x,1)\n",
    "l=likelihood(x,mean1,std1)\n",
    "\n",
    "i=0\n",
    "for e in l:\n",
    "    i+=1\n",
    "    if e==max(l):\n",
    "        break\n",
    "    \n",
    "x=x[:i*2]\n",
    "l=l[:i*2]\n",
    "\n",
    "p=prior(x,1)\n",
    "normalization_factor_posterior = np.sum((p*l) * 0.01)\n",
    "l=(l*p)/normalization_factor_posterior\n",
    "\n",
    "\n",
    "\n",
    "plt.plot(x,l)\n",
    "plt.xlabel(\"Length\")\n",
    "plt.ylabel(\"Distribution\")\n",
    "plt.title(\"distribution of length\")\n",
    "[]\n",
    "print(\"With the information from the prior and likelihood, we were able to achieve this plot with a mean of \",x[i],\".\")\n",
    "plt.show()"
   ]
  },
  {
   "cell_type": "markdown",
   "metadata": {},
   "source": [
    "__b)__ What Kevin really cares about is consistency. It doesn't really matter to him whether the dumplings are big or small. What's unacceptable to him is a standard deviation that's larger than $1\\,\\textrm{cm}$. Should Kevin be worried? Make your argument in a quantitative manner."
   ]
  },
  {
   "cell_type": "markdown",
   "metadata": {},
   "source": [
    "With $\\overline{d} \\equiv (d_\\textrm{meas}/\\sigma_m^2 + d_\\textrm{guess}/\\sigma_p^2)/(1/\\sigma_p^2 + 1/ \\sigma_m^2)$ and $\\overline{\\sigma} \\equiv (1/\\sigma_p^2 + 1/ \\sigma_m^2)^{-1/2}$(Taken from lab5). <br>\n",
    "\n",
    "And with values<br>\n",
    "$\\sigma_p=1cm$<br>\n",
    "$\\sigma_m=1.1547cm$<br>\n",
    "$d_\\textrm{guess}=4cm$<br>\n",
    "$d_\\textrm{meas}=3.935$<br>\n"
   ]
  },
  {
   "cell_type": "code",
   "execution_count": 9,
   "metadata": {},
   "outputs": [
    {
     "name": "stdout",
     "output_type": "stream",
     "text": [
      "The posterior mean is  3.9742857005836667  and the posterior std is  0.755928794967557 \n",
      "\n",
      "With a prior std of 1cm and measured std of 1.1547 cm, we were able to achieve a posterior of  0.755928794967557 cm, which is \n",
      "less than 1cm, Kevin should not be worried\n"
     ]
    }
   ],
   "source": [
    "s_p=1\n",
    "s_m=1.1547\n",
    "d_guess=4\n",
    "d_meas=3.94\n",
    "\n",
    "\n",
    "\n",
    "post_d=((d_meas/(s_m)**2)+(d_guess/(s_p)**2))/(1/(s_p)**2+1/(s_m)**2)\n",
    "\n",
    "post_s=1/np.sqrt(1/(s_p)**2+1/(s_m)**2)\n",
    "\n",
    "print(\"The posterior mean is \",post_d,\" and the posterior std is \",post_s,\"\\n\")\n",
    "print(\"With a prior std of 1cm and measured std of 1.1547 cm, we were able to achieve a posterior of \", post_s,\"cm, which is \\nless than 1cm, Kevin should not be worried\")"
   ]
  },
  {
   "cell_type": "markdown",
   "metadata": {},
   "source": [
    "## Ungraded question"
   ]
  },
  {
   "cell_type": "markdown",
   "metadata": {},
   "source": [
    "I would like to tailor the last part of the course to your interests. Please fill out [this](https://forms.gle/BFJMx8HEnfQjjbuC9) anonymous survey to help me with that. This is not a graded part of your midterm, but now is just a convenient time to do it."
   ]
  },
  {
   "cell_type": "markdown",
   "metadata": {},
   "source": [
    "## Submission"
   ]
  },
  {
   "cell_type": "markdown",
   "metadata": {},
   "source": [
    "You're done! Do a final git commit, taking care to include everything relevant (e.g., if you have any embedded images). If you decide to revise your answers before the deadline, no problem---just make the changes you want to make and resubmit your work. Push your work to your repo."
   ]
  },
  {
   "cell_type": "code",
   "execution_count": null,
   "metadata": {},
   "outputs": [],
   "source": []
  }
 ],
 "metadata": {
  "kernelspec": {
   "display_name": "Python 3",
   "language": "python",
   "name": "python3"
  },
  "language_info": {
   "codemirror_mode": {
    "name": "ipython",
    "version": 3
   },
   "file_extension": ".py",
   "mimetype": "text/x-python",
   "name": "python",
   "nbconvert_exporter": "python",
   "pygments_lexer": "ipython3",
   "version": "3.8.5"
  }
 },
 "nbformat": 4,
 "nbformat_minor": 4
}
